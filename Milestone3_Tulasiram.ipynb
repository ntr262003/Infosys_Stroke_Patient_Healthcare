{
  "nbformat": 4,
  "nbformat_minor": 0,
  "metadata": {
    "colab": {
      "provenance": [],
      "authorship_tag": "ABX9TyMb7Blk0c3K3t67XoKag4qs",
      "include_colab_link": true
    },
    "kernelspec": {
      "name": "python3",
      "display_name": "Python 3"
    },
    "language_info": {
      "name": "python"
    }
  },
  "cells": [
    {
      "cell_type": "markdown",
      "metadata": {
        "id": "view-in-github",
        "colab_type": "text"
      },
      "source": [
        "<a href=\"https://colab.research.google.com/github/ntr262003/Infosys_Stroke_Patient_Healthcare/blob/main/Milestone3_Tulasiram.ipynb\" target=\"_parent\"><img src=\"https://colab.research.google.com/assets/colab-badge.svg\" alt=\"Open In Colab\"/></a>"
      ]
    },
    {
      "cell_type": "markdown",
      "source": [
        "<h1>Comparing different ML models on Stroke Patient Healthcare data"
      ],
      "metadata": {
        "id": "_hWwkUKYXu9Y"
      }
    },
    {
      "cell_type": "markdown",
      "source": [
        "<h2> Importing all reaquired Libraries"
      ],
      "metadata": {
        "id": "-qXQBT5YbSDI"
      }
    },
    {
      "cell_type": "code",
      "execution_count": 1,
      "metadata": {
        "id": "w9K0r8-WNDsJ"
      },
      "outputs": [],
      "source": [
        "import numpy as np\n",
        "import pandas as pd\n",
        "import matplotlib.pyplot as plt\n",
        "import seaborn as sns\n",
        "import warnings\n",
        "warnings.filterwarnings('ignore')\n",
        "import datetime as dt\n",
        "from sklearn.linear_model import LogisticRegression\n",
        "from sklearn.model_selection import train_test_split\n",
        "from sklearn.metrics import accuracy_score\n",
        "from sklearn.linear_model import Ridge\n",
        "from sklearn.linear_model import Lasso\n",
        "from sklearn.linear_model import LinearRegression\n",
        "from sklearn.metrics import mean_squared_error"
      ]
    },
    {
      "cell_type": "markdown",
      "source": [
        "<h3>Importing dataset"
      ],
      "metadata": {
        "id": "Z9l_6nv0bcdA"
      }
    },
    {
      "cell_type": "code",
      "source": [
        "df=pd.read_csv(\"/content/healthcare-dataset-stroke-data.csv\")"
      ],
      "metadata": {
        "id": "tPO4ukuWO_AA"
      },
      "execution_count": 2,
      "outputs": []
    },
    {
      "cell_type": "markdown",
      "source": [
        "<h3>Handling missing values"
      ],
      "metadata": {
        "id": "mqoGVWF3btln"
      }
    },
    {
      "cell_type": "code",
      "source": [
        "# Handling missing values for the 'bmi' column by assigning the result back\n",
        "df['bmi'] = df['bmi'].fillna(df['bmi'].median())"
      ],
      "metadata": {
        "id": "HXJvfc33PGdT"
      },
      "execution_count": 3,
      "outputs": []
    },
    {
      "cell_type": "code",
      "source": [
        "df['Residence_type'] = df['Residence_type'].apply(lambda x: 1 if x == 'Urban' else 0)\n",
        "display(df[['Residence_type']].head())"
      ],
      "metadata": {
        "colab": {
          "base_uri": "https://localhost:8080/",
          "height": 206
        },
        "id": "jdP_RKVSPJw3",
        "outputId": "27601bfa-dda5-4818-df1d-320c602a16b8"
      },
      "execution_count": 4,
      "outputs": [
        {
          "output_type": "display_data",
          "data": {
            "text/plain": [
              "   Residence_type\n",
              "0               1\n",
              "1               0\n",
              "2               0\n",
              "3               1\n",
              "4               0"
            ],
            "text/html": [
              "\n",
              "  <div id=\"df-7426c32f-33fd-4c48-95a5-c10438896a35\" class=\"colab-df-container\">\n",
              "    <div>\n",
              "<style scoped>\n",
              "    .dataframe tbody tr th:only-of-type {\n",
              "        vertical-align: middle;\n",
              "    }\n",
              "\n",
              "    .dataframe tbody tr th {\n",
              "        vertical-align: top;\n",
              "    }\n",
              "\n",
              "    .dataframe thead th {\n",
              "        text-align: right;\n",
              "    }\n",
              "</style>\n",
              "<table border=\"1\" class=\"dataframe\">\n",
              "  <thead>\n",
              "    <tr style=\"text-align: right;\">\n",
              "      <th></th>\n",
              "      <th>Residence_type</th>\n",
              "    </tr>\n",
              "  </thead>\n",
              "  <tbody>\n",
              "    <tr>\n",
              "      <th>0</th>\n",
              "      <td>1</td>\n",
              "    </tr>\n",
              "    <tr>\n",
              "      <th>1</th>\n",
              "      <td>0</td>\n",
              "    </tr>\n",
              "    <tr>\n",
              "      <th>2</th>\n",
              "      <td>0</td>\n",
              "    </tr>\n",
              "    <tr>\n",
              "      <th>3</th>\n",
              "      <td>1</td>\n",
              "    </tr>\n",
              "    <tr>\n",
              "      <th>4</th>\n",
              "      <td>0</td>\n",
              "    </tr>\n",
              "  </tbody>\n",
              "</table>\n",
              "</div>\n",
              "    <div class=\"colab-df-buttons\">\n",
              "\n",
              "  <div class=\"colab-df-container\">\n",
              "    <button class=\"colab-df-convert\" onclick=\"convertToInteractive('df-7426c32f-33fd-4c48-95a5-c10438896a35')\"\n",
              "            title=\"Convert this dataframe to an interactive table.\"\n",
              "            style=\"display:none;\">\n",
              "\n",
              "  <svg xmlns=\"http://www.w3.org/2000/svg\" height=\"24px\" viewBox=\"0 -960 960 960\">\n",
              "    <path d=\"M120-120v-720h720v720H120Zm60-500h600v-160H180v160Zm220 220h160v-160H400v160Zm0 220h160v-160H400v160ZM180-400h160v-160H180v160Zm440 0h160v-160H620v160ZM180-180h160v-160H180v160Zm440 0h160v-160H620v160Z\"/>\n",
              "  </svg>\n",
              "    </button>\n",
              "\n",
              "  <style>\n",
              "    .colab-df-container {\n",
              "      display:flex;\n",
              "      gap: 12px;\n",
              "    }\n",
              "\n",
              "    .colab-df-convert {\n",
              "      background-color: #E8F0FE;\n",
              "      border: none;\n",
              "      border-radius: 50%;\n",
              "      cursor: pointer;\n",
              "      display: none;\n",
              "      fill: #1967D2;\n",
              "      height: 32px;\n",
              "      padding: 0 0 0 0;\n",
              "      width: 32px;\n",
              "    }\n",
              "\n",
              "    .colab-df-convert:hover {\n",
              "      background-color: #E2EBFA;\n",
              "      box-shadow: 0px 1px 2px rgba(60, 64, 67, 0.3), 0px 1px 3px 1px rgba(60, 64, 67, 0.15);\n",
              "      fill: #174EA6;\n",
              "    }\n",
              "\n",
              "    .colab-df-buttons div {\n",
              "      margin-bottom: 4px;\n",
              "    }\n",
              "\n",
              "    [theme=dark] .colab-df-convert {\n",
              "      background-color: #3B4455;\n",
              "      fill: #D2E3FC;\n",
              "    }\n",
              "\n",
              "    [theme=dark] .colab-df-convert:hover {\n",
              "      background-color: #434B5C;\n",
              "      box-shadow: 0px 1px 3px 1px rgba(0, 0, 0, 0.15);\n",
              "      filter: drop-shadow(0px 1px 2px rgba(0, 0, 0, 0.3));\n",
              "      fill: #FFFFFF;\n",
              "    }\n",
              "  </style>\n",
              "\n",
              "    <script>\n",
              "      const buttonEl =\n",
              "        document.querySelector('#df-7426c32f-33fd-4c48-95a5-c10438896a35 button.colab-df-convert');\n",
              "      buttonEl.style.display =\n",
              "        google.colab.kernel.accessAllowed ? 'block' : 'none';\n",
              "\n",
              "      async function convertToInteractive(key) {\n",
              "        const element = document.querySelector('#df-7426c32f-33fd-4c48-95a5-c10438896a35');\n",
              "        const dataTable =\n",
              "          await google.colab.kernel.invokeFunction('convertToInteractive',\n",
              "                                                    [key], {});\n",
              "        if (!dataTable) return;\n",
              "\n",
              "        const docLinkHtml = 'Like what you see? Visit the ' +\n",
              "          '<a target=\"_blank\" href=https://colab.research.google.com/notebooks/data_table.ipynb>data table notebook</a>'\n",
              "          + ' to learn more about interactive tables.';\n",
              "        element.innerHTML = '';\n",
              "        dataTable['output_type'] = 'display_data';\n",
              "        await google.colab.output.renderOutput(dataTable, element);\n",
              "        const docLink = document.createElement('div');\n",
              "        docLink.innerHTML = docLinkHtml;\n",
              "        element.appendChild(docLink);\n",
              "      }\n",
              "    </script>\n",
              "  </div>\n",
              "\n",
              "\n",
              "<div id=\"df-403d4892-37a6-437f-9417-ad9f705e20f5\">\n",
              "  <button class=\"colab-df-quickchart\" onclick=\"quickchart('df-403d4892-37a6-437f-9417-ad9f705e20f5')\"\n",
              "            title=\"Suggest charts\"\n",
              "            style=\"display:none;\">\n",
              "\n",
              "<svg xmlns=\"http://www.w3.org/2000/svg\" height=\"24px\"viewBox=\"0 0 24 24\"\n",
              "     width=\"24px\">\n",
              "    <g>\n",
              "        <path d=\"M19 3H5c-1.1 0-2 .9-2 2v14c0 1.1.9 2 2 2h14c1.1 0 2-.9 2-2V5c0-1.1-.9-2-2-2zM9 17H7v-7h2v7zm4 0h-2V7h2v10zm4 0h-2v-4h2v4z\"/>\n",
              "    </g>\n",
              "</svg>\n",
              "  </button>\n",
              "\n",
              "<style>\n",
              "  .colab-df-quickchart {\n",
              "      --bg-color: #E8F0FE;\n",
              "      --fill-color: #1967D2;\n",
              "      --hover-bg-color: #E2EBFA;\n",
              "      --hover-fill-color: #174EA6;\n",
              "      --disabled-fill-color: #AAA;\n",
              "      --disabled-bg-color: #DDD;\n",
              "  }\n",
              "\n",
              "  [theme=dark] .colab-df-quickchart {\n",
              "      --bg-color: #3B4455;\n",
              "      --fill-color: #D2E3FC;\n",
              "      --hover-bg-color: #434B5C;\n",
              "      --hover-fill-color: #FFFFFF;\n",
              "      --disabled-bg-color: #3B4455;\n",
              "      --disabled-fill-color: #666;\n",
              "  }\n",
              "\n",
              "  .colab-df-quickchart {\n",
              "    background-color: var(--bg-color);\n",
              "    border: none;\n",
              "    border-radius: 50%;\n",
              "    cursor: pointer;\n",
              "    display: none;\n",
              "    fill: var(--fill-color);\n",
              "    height: 32px;\n",
              "    padding: 0;\n",
              "    width: 32px;\n",
              "  }\n",
              "\n",
              "  .colab-df-quickchart:hover {\n",
              "    background-color: var(--hover-bg-color);\n",
              "    box-shadow: 0 1px 2px rgba(60, 64, 67, 0.3), 0 1px 3px 1px rgba(60, 64, 67, 0.15);\n",
              "    fill: var(--button-hover-fill-color);\n",
              "  }\n",
              "\n",
              "  .colab-df-quickchart-complete:disabled,\n",
              "  .colab-df-quickchart-complete:disabled:hover {\n",
              "    background-color: var(--disabled-bg-color);\n",
              "    fill: var(--disabled-fill-color);\n",
              "    box-shadow: none;\n",
              "  }\n",
              "\n",
              "  .colab-df-spinner {\n",
              "    border: 2px solid var(--fill-color);\n",
              "    border-color: transparent;\n",
              "    border-bottom-color: var(--fill-color);\n",
              "    animation:\n",
              "      spin 1s steps(1) infinite;\n",
              "  }\n",
              "\n",
              "  @keyframes spin {\n",
              "    0% {\n",
              "      border-color: transparent;\n",
              "      border-bottom-color: var(--fill-color);\n",
              "      border-left-color: var(--fill-color);\n",
              "    }\n",
              "    20% {\n",
              "      border-color: transparent;\n",
              "      border-left-color: var(--fill-color);\n",
              "      border-top-color: var(--fill-color);\n",
              "    }\n",
              "    30% {\n",
              "      border-color: transparent;\n",
              "      border-left-color: var(--fill-color);\n",
              "      border-top-color: var(--fill-color);\n",
              "      border-right-color: var(--fill-color);\n",
              "    }\n",
              "    40% {\n",
              "      border-color: transparent;\n",
              "      border-right-color: var(--fill-color);\n",
              "      border-top-color: var(--fill-color);\n",
              "    }\n",
              "    60% {\n",
              "      border-color: transparent;\n",
              "      border-right-color: var(--fill-color);\n",
              "    }\n",
              "    80% {\n",
              "      border-color: transparent;\n",
              "      border-right-color: var(--fill-color);\n",
              "      border-bottom-color: var(--fill-color);\n",
              "    }\n",
              "    90% {\n",
              "      border-color: transparent;\n",
              "      border-bottom-color: var(--fill-color);\n",
              "    }\n",
              "  }\n",
              "</style>\n",
              "\n",
              "  <script>\n",
              "    async function quickchart(key) {\n",
              "      const quickchartButtonEl =\n",
              "        document.querySelector('#' + key + ' button');\n",
              "      quickchartButtonEl.disabled = true;  // To prevent multiple clicks.\n",
              "      quickchartButtonEl.classList.add('colab-df-spinner');\n",
              "      try {\n",
              "        const charts = await google.colab.kernel.invokeFunction(\n",
              "            'suggestCharts', [key], {});\n",
              "      } catch (error) {\n",
              "        console.error('Error during call to suggestCharts:', error);\n",
              "      }\n",
              "      quickchartButtonEl.classList.remove('colab-df-spinner');\n",
              "      quickchartButtonEl.classList.add('colab-df-quickchart-complete');\n",
              "    }\n",
              "    (() => {\n",
              "      let quickchartButtonEl =\n",
              "        document.querySelector('#df-403d4892-37a6-437f-9417-ad9f705e20f5 button');\n",
              "      quickchartButtonEl.style.display =\n",
              "        google.colab.kernel.accessAllowed ? 'block' : 'none';\n",
              "    })();\n",
              "  </script>\n",
              "</div>\n",
              "\n",
              "    </div>\n",
              "  </div>\n"
            ],
            "application/vnd.google.colaboratory.intrinsic+json": {
              "type": "dataframe",
              "summary": "{\n  \"name\": \"display(df[['Residence_type']]\",\n  \"rows\": 5,\n  \"fields\": [\n    {\n      \"column\": \"Residence_type\",\n      \"properties\": {\n        \"dtype\": \"number\",\n        \"std\": 0,\n        \"min\": 0,\n        \"max\": 1,\n        \"num_unique_values\": 2,\n        \"samples\": [\n          0,\n          1\n        ],\n        \"semantic_type\": \"\",\n        \"description\": \"\"\n      }\n    }\n  ]\n}"
            }
          },
          "metadata": {}
        }
      ]
    },
    {
      "cell_type": "markdown",
      "source": [
        "<h3>Converting Categorical Data into Numerical Data"
      ],
      "metadata": {
        "id": "VyUp_bqeb471"
      }
    },
    {
      "cell_type": "code",
      "source": [
        "df['Urban/Rural'] = df['Residence_type'].apply(lambda x: 1 if x == 'Urban' else 0)\n",
        "\n",
        "\n",
        "df['work_type_Never_worked'] = df['work_type'].apply(lambda x: 1 if x == 'Never_worked' else 0)\n",
        "df['work_type_Private'] = df['work_type'].apply(lambda x: 1 if x == 'Private' else 0)\n",
        "df['work_type_Self_employed'] = df['work_type'].apply(lambda x: 1 if x == 'Self-employed' else 0)\n",
        "\n",
        "\n",
        "df['smoking_status_formerly_smoked'] = df['smoking_status'].apply(lambda x: 1 if x == 'formerly smoked' else 0)\n",
        "df['smoking_status_never_smoked'] = df['smoking_status'].apply(lambda x: 1 if x == 'never smoked' else 0)\n",
        "df['smoking_status_smokes'] = df['smoking_status'].apply(lambda x: 1 if x == 'smokes' else 0)\n",
        "\n",
        "df_model = df.copy()\n",
        "\n",
        "df_model.drop(['Residence_type', 'work_type', 'smoking_status', 'gender', 'ever_married'], axis=1, inplace=True)"
      ],
      "metadata": {
        "id": "S-DDdre0PLMi"
      },
      "execution_count": 5,
      "outputs": []
    },
    {
      "cell_type": "code",
      "source": [
        "df_model.head(3)"
      ],
      "metadata": {
        "colab": {
          "base_uri": "https://localhost:8080/",
          "height": 163
        },
        "id": "Ae3c2wKdPMwn",
        "outputId": "cc50ebcb-16cb-4a44-a633-5b8d2e163896"
      },
      "execution_count": 6,
      "outputs": [
        {
          "output_type": "execute_result",
          "data": {
            "text/plain": [
              "      id   age  hypertension  heart_disease  avg_glucose_level   bmi  stroke  \\\n",
              "0   9046  67.0             0              1             228.69  36.6       1   \n",
              "1  51676  61.0             0              0             202.21  28.1       1   \n",
              "2  31112  80.0             0              1             105.92  32.5       1   \n",
              "\n",
              "   Urban/Rural  work_type_Never_worked  work_type_Private  \\\n",
              "0            0                       0                  1   \n",
              "1            0                       0                  0   \n",
              "2            0                       0                  1   \n",
              "\n",
              "   work_type_Self_employed  smoking_status_formerly_smoked  \\\n",
              "0                        0                               1   \n",
              "1                        1                               0   \n",
              "2                        0                               0   \n",
              "\n",
              "   smoking_status_never_smoked  smoking_status_smokes  \n",
              "0                            0                      0  \n",
              "1                            1                      0  \n",
              "2                            1                      0  "
            ],
            "text/html": [
              "\n",
              "  <div id=\"df-c815adec-fef3-429e-92e3-6550b4ff8554\" class=\"colab-df-container\">\n",
              "    <div>\n",
              "<style scoped>\n",
              "    .dataframe tbody tr th:only-of-type {\n",
              "        vertical-align: middle;\n",
              "    }\n",
              "\n",
              "    .dataframe tbody tr th {\n",
              "        vertical-align: top;\n",
              "    }\n",
              "\n",
              "    .dataframe thead th {\n",
              "        text-align: right;\n",
              "    }\n",
              "</style>\n",
              "<table border=\"1\" class=\"dataframe\">\n",
              "  <thead>\n",
              "    <tr style=\"text-align: right;\">\n",
              "      <th></th>\n",
              "      <th>id</th>\n",
              "      <th>age</th>\n",
              "      <th>hypertension</th>\n",
              "      <th>heart_disease</th>\n",
              "      <th>avg_glucose_level</th>\n",
              "      <th>bmi</th>\n",
              "      <th>stroke</th>\n",
              "      <th>Urban/Rural</th>\n",
              "      <th>work_type_Never_worked</th>\n",
              "      <th>work_type_Private</th>\n",
              "      <th>work_type_Self_employed</th>\n",
              "      <th>smoking_status_formerly_smoked</th>\n",
              "      <th>smoking_status_never_smoked</th>\n",
              "      <th>smoking_status_smokes</th>\n",
              "    </tr>\n",
              "  </thead>\n",
              "  <tbody>\n",
              "    <tr>\n",
              "      <th>0</th>\n",
              "      <td>9046</td>\n",
              "      <td>67.0</td>\n",
              "      <td>0</td>\n",
              "      <td>1</td>\n",
              "      <td>228.69</td>\n",
              "      <td>36.6</td>\n",
              "      <td>1</td>\n",
              "      <td>0</td>\n",
              "      <td>0</td>\n",
              "      <td>1</td>\n",
              "      <td>0</td>\n",
              "      <td>1</td>\n",
              "      <td>0</td>\n",
              "      <td>0</td>\n",
              "    </tr>\n",
              "    <tr>\n",
              "      <th>1</th>\n",
              "      <td>51676</td>\n",
              "      <td>61.0</td>\n",
              "      <td>0</td>\n",
              "      <td>0</td>\n",
              "      <td>202.21</td>\n",
              "      <td>28.1</td>\n",
              "      <td>1</td>\n",
              "      <td>0</td>\n",
              "      <td>0</td>\n",
              "      <td>0</td>\n",
              "      <td>1</td>\n",
              "      <td>0</td>\n",
              "      <td>1</td>\n",
              "      <td>0</td>\n",
              "    </tr>\n",
              "    <tr>\n",
              "      <th>2</th>\n",
              "      <td>31112</td>\n",
              "      <td>80.0</td>\n",
              "      <td>0</td>\n",
              "      <td>1</td>\n",
              "      <td>105.92</td>\n",
              "      <td>32.5</td>\n",
              "      <td>1</td>\n",
              "      <td>0</td>\n",
              "      <td>0</td>\n",
              "      <td>1</td>\n",
              "      <td>0</td>\n",
              "      <td>0</td>\n",
              "      <td>1</td>\n",
              "      <td>0</td>\n",
              "    </tr>\n",
              "  </tbody>\n",
              "</table>\n",
              "</div>\n",
              "    <div class=\"colab-df-buttons\">\n",
              "\n",
              "  <div class=\"colab-df-container\">\n",
              "    <button class=\"colab-df-convert\" onclick=\"convertToInteractive('df-c815adec-fef3-429e-92e3-6550b4ff8554')\"\n",
              "            title=\"Convert this dataframe to an interactive table.\"\n",
              "            style=\"display:none;\">\n",
              "\n",
              "  <svg xmlns=\"http://www.w3.org/2000/svg\" height=\"24px\" viewBox=\"0 -960 960 960\">\n",
              "    <path d=\"M120-120v-720h720v720H120Zm60-500h600v-160H180v160Zm220 220h160v-160H400v160Zm0 220h160v-160H400v160ZM180-400h160v-160H180v160Zm440 0h160v-160H620v160ZM180-180h160v-160H180v160Zm440 0h160v-160H620v160Z\"/>\n",
              "  </svg>\n",
              "    </button>\n",
              "\n",
              "  <style>\n",
              "    .colab-df-container {\n",
              "      display:flex;\n",
              "      gap: 12px;\n",
              "    }\n",
              "\n",
              "    .colab-df-convert {\n",
              "      background-color: #E8F0FE;\n",
              "      border: none;\n",
              "      border-radius: 50%;\n",
              "      cursor: pointer;\n",
              "      display: none;\n",
              "      fill: #1967D2;\n",
              "      height: 32px;\n",
              "      padding: 0 0 0 0;\n",
              "      width: 32px;\n",
              "    }\n",
              "\n",
              "    .colab-df-convert:hover {\n",
              "      background-color: #E2EBFA;\n",
              "      box-shadow: 0px 1px 2px rgba(60, 64, 67, 0.3), 0px 1px 3px 1px rgba(60, 64, 67, 0.15);\n",
              "      fill: #174EA6;\n",
              "    }\n",
              "\n",
              "    .colab-df-buttons div {\n",
              "      margin-bottom: 4px;\n",
              "    }\n",
              "\n",
              "    [theme=dark] .colab-df-convert {\n",
              "      background-color: #3B4455;\n",
              "      fill: #D2E3FC;\n",
              "    }\n",
              "\n",
              "    [theme=dark] .colab-df-convert:hover {\n",
              "      background-color: #434B5C;\n",
              "      box-shadow: 0px 1px 3px 1px rgba(0, 0, 0, 0.15);\n",
              "      filter: drop-shadow(0px 1px 2px rgba(0, 0, 0, 0.3));\n",
              "      fill: #FFFFFF;\n",
              "    }\n",
              "  </style>\n",
              "\n",
              "    <script>\n",
              "      const buttonEl =\n",
              "        document.querySelector('#df-c815adec-fef3-429e-92e3-6550b4ff8554 button.colab-df-convert');\n",
              "      buttonEl.style.display =\n",
              "        google.colab.kernel.accessAllowed ? 'block' : 'none';\n",
              "\n",
              "      async function convertToInteractive(key) {\n",
              "        const element = document.querySelector('#df-c815adec-fef3-429e-92e3-6550b4ff8554');\n",
              "        const dataTable =\n",
              "          await google.colab.kernel.invokeFunction('convertToInteractive',\n",
              "                                                    [key], {});\n",
              "        if (!dataTable) return;\n",
              "\n",
              "        const docLinkHtml = 'Like what you see? Visit the ' +\n",
              "          '<a target=\"_blank\" href=https://colab.research.google.com/notebooks/data_table.ipynb>data table notebook</a>'\n",
              "          + ' to learn more about interactive tables.';\n",
              "        element.innerHTML = '';\n",
              "        dataTable['output_type'] = 'display_data';\n",
              "        await google.colab.output.renderOutput(dataTable, element);\n",
              "        const docLink = document.createElement('div');\n",
              "        docLink.innerHTML = docLinkHtml;\n",
              "        element.appendChild(docLink);\n",
              "      }\n",
              "    </script>\n",
              "  </div>\n",
              "\n",
              "\n",
              "<div id=\"df-00922a29-a7d4-4d43-b919-419255813a67\">\n",
              "  <button class=\"colab-df-quickchart\" onclick=\"quickchart('df-00922a29-a7d4-4d43-b919-419255813a67')\"\n",
              "            title=\"Suggest charts\"\n",
              "            style=\"display:none;\">\n",
              "\n",
              "<svg xmlns=\"http://www.w3.org/2000/svg\" height=\"24px\"viewBox=\"0 0 24 24\"\n",
              "     width=\"24px\">\n",
              "    <g>\n",
              "        <path d=\"M19 3H5c-1.1 0-2 .9-2 2v14c0 1.1.9 2 2 2h14c1.1 0 2-.9 2-2V5c0-1.1-.9-2-2-2zM9 17H7v-7h2v7zm4 0h-2V7h2v10zm4 0h-2v-4h2v4z\"/>\n",
              "    </g>\n",
              "</svg>\n",
              "  </button>\n",
              "\n",
              "<style>\n",
              "  .colab-df-quickchart {\n",
              "      --bg-color: #E8F0FE;\n",
              "      --fill-color: #1967D2;\n",
              "      --hover-bg-color: #E2EBFA;\n",
              "      --hover-fill-color: #174EA6;\n",
              "      --disabled-fill-color: #AAA;\n",
              "      --disabled-bg-color: #DDD;\n",
              "  }\n",
              "\n",
              "  [theme=dark] .colab-df-quickchart {\n",
              "      --bg-color: #3B4455;\n",
              "      --fill-color: #D2E3FC;\n",
              "      --hover-bg-color: #434B5C;\n",
              "      --hover-fill-color: #FFFFFF;\n",
              "      --disabled-bg-color: #3B4455;\n",
              "      --disabled-fill-color: #666;\n",
              "  }\n",
              "\n",
              "  .colab-df-quickchart {\n",
              "    background-color: var(--bg-color);\n",
              "    border: none;\n",
              "    border-radius: 50%;\n",
              "    cursor: pointer;\n",
              "    display: none;\n",
              "    fill: var(--fill-color);\n",
              "    height: 32px;\n",
              "    padding: 0;\n",
              "    width: 32px;\n",
              "  }\n",
              "\n",
              "  .colab-df-quickchart:hover {\n",
              "    background-color: var(--hover-bg-color);\n",
              "    box-shadow: 0 1px 2px rgba(60, 64, 67, 0.3), 0 1px 3px 1px rgba(60, 64, 67, 0.15);\n",
              "    fill: var(--button-hover-fill-color);\n",
              "  }\n",
              "\n",
              "  .colab-df-quickchart-complete:disabled,\n",
              "  .colab-df-quickchart-complete:disabled:hover {\n",
              "    background-color: var(--disabled-bg-color);\n",
              "    fill: var(--disabled-fill-color);\n",
              "    box-shadow: none;\n",
              "  }\n",
              "\n",
              "  .colab-df-spinner {\n",
              "    border: 2px solid var(--fill-color);\n",
              "    border-color: transparent;\n",
              "    border-bottom-color: var(--fill-color);\n",
              "    animation:\n",
              "      spin 1s steps(1) infinite;\n",
              "  }\n",
              "\n",
              "  @keyframes spin {\n",
              "    0% {\n",
              "      border-color: transparent;\n",
              "      border-bottom-color: var(--fill-color);\n",
              "      border-left-color: var(--fill-color);\n",
              "    }\n",
              "    20% {\n",
              "      border-color: transparent;\n",
              "      border-left-color: var(--fill-color);\n",
              "      border-top-color: var(--fill-color);\n",
              "    }\n",
              "    30% {\n",
              "      border-color: transparent;\n",
              "      border-left-color: var(--fill-color);\n",
              "      border-top-color: var(--fill-color);\n",
              "      border-right-color: var(--fill-color);\n",
              "    }\n",
              "    40% {\n",
              "      border-color: transparent;\n",
              "      border-right-color: var(--fill-color);\n",
              "      border-top-color: var(--fill-color);\n",
              "    }\n",
              "    60% {\n",
              "      border-color: transparent;\n",
              "      border-right-color: var(--fill-color);\n",
              "    }\n",
              "    80% {\n",
              "      border-color: transparent;\n",
              "      border-right-color: var(--fill-color);\n",
              "      border-bottom-color: var(--fill-color);\n",
              "    }\n",
              "    90% {\n",
              "      border-color: transparent;\n",
              "      border-bottom-color: var(--fill-color);\n",
              "    }\n",
              "  }\n",
              "</style>\n",
              "\n",
              "  <script>\n",
              "    async function quickchart(key) {\n",
              "      const quickchartButtonEl =\n",
              "        document.querySelector('#' + key + ' button');\n",
              "      quickchartButtonEl.disabled = true;  // To prevent multiple clicks.\n",
              "      quickchartButtonEl.classList.add('colab-df-spinner');\n",
              "      try {\n",
              "        const charts = await google.colab.kernel.invokeFunction(\n",
              "            'suggestCharts', [key], {});\n",
              "      } catch (error) {\n",
              "        console.error('Error during call to suggestCharts:', error);\n",
              "      }\n",
              "      quickchartButtonEl.classList.remove('colab-df-spinner');\n",
              "      quickchartButtonEl.classList.add('colab-df-quickchart-complete');\n",
              "    }\n",
              "    (() => {\n",
              "      let quickchartButtonEl =\n",
              "        document.querySelector('#df-00922a29-a7d4-4d43-b919-419255813a67 button');\n",
              "      quickchartButtonEl.style.display =\n",
              "        google.colab.kernel.accessAllowed ? 'block' : 'none';\n",
              "    })();\n",
              "  </script>\n",
              "</div>\n",
              "\n",
              "    </div>\n",
              "  </div>\n"
            ],
            "application/vnd.google.colaboratory.intrinsic+json": {
              "type": "dataframe",
              "variable_name": "df_model",
              "summary": "{\n  \"name\": \"df_model\",\n  \"rows\": 5110,\n  \"fields\": [\n    {\n      \"column\": \"id\",\n      \"properties\": {\n        \"dtype\": \"number\",\n        \"std\": 21161,\n        \"min\": 67,\n        \"max\": 72940,\n        \"num_unique_values\": 5110,\n        \"samples\": [\n          40041,\n          55244,\n          70992\n        ],\n        \"semantic_type\": \"\",\n        \"description\": \"\"\n      }\n    },\n    {\n      \"column\": \"age\",\n      \"properties\": {\n        \"dtype\": \"number\",\n        \"std\": 22.61264672311352,\n        \"min\": 0.08,\n        \"max\": 82.0,\n        \"num_unique_values\": 104,\n        \"samples\": [\n          45.0,\n          24.0,\n          33.0\n        ],\n        \"semantic_type\": \"\",\n        \"description\": \"\"\n      }\n    },\n    {\n      \"column\": \"hypertension\",\n      \"properties\": {\n        \"dtype\": \"number\",\n        \"std\": 0,\n        \"min\": 0,\n        \"max\": 1,\n        \"num_unique_values\": 2,\n        \"samples\": [\n          1,\n          0\n        ],\n        \"semantic_type\": \"\",\n        \"description\": \"\"\n      }\n    },\n    {\n      \"column\": \"heart_disease\",\n      \"properties\": {\n        \"dtype\": \"number\",\n        \"std\": 0,\n        \"min\": 0,\n        \"max\": 1,\n        \"num_unique_values\": 2,\n        \"samples\": [\n          0,\n          1\n        ],\n        \"semantic_type\": \"\",\n        \"description\": \"\"\n      }\n    },\n    {\n      \"column\": \"avg_glucose_level\",\n      \"properties\": {\n        \"dtype\": \"number\",\n        \"std\": 45.28356015058203,\n        \"min\": 55.12,\n        \"max\": 271.74,\n        \"num_unique_values\": 3979,\n        \"samples\": [\n          178.29,\n          156.69\n        ],\n        \"semantic_type\": \"\",\n        \"description\": \"\"\n      }\n    },\n    {\n      \"column\": \"bmi\",\n      \"properties\": {\n        \"dtype\": \"number\",\n        \"std\": 7.699562318787533,\n        \"min\": 10.3,\n        \"max\": 97.6,\n        \"num_unique_values\": 418,\n        \"samples\": [\n          49.5,\n          18.5\n        ],\n        \"semantic_type\": \"\",\n        \"description\": \"\"\n      }\n    },\n    {\n      \"column\": \"stroke\",\n      \"properties\": {\n        \"dtype\": \"number\",\n        \"std\": 0,\n        \"min\": 0,\n        \"max\": 1,\n        \"num_unique_values\": 2,\n        \"samples\": [\n          0,\n          1\n        ],\n        \"semantic_type\": \"\",\n        \"description\": \"\"\n      }\n    },\n    {\n      \"column\": \"Urban/Rural\",\n      \"properties\": {\n        \"dtype\": \"number\",\n        \"std\": 0,\n        \"min\": 0,\n        \"max\": 0,\n        \"num_unique_values\": 1,\n        \"samples\": [\n          0\n        ],\n        \"semantic_type\": \"\",\n        \"description\": \"\"\n      }\n    },\n    {\n      \"column\": \"work_type_Never_worked\",\n      \"properties\": {\n        \"dtype\": \"number\",\n        \"std\": 0,\n        \"min\": 0,\n        \"max\": 1,\n        \"num_unique_values\": 2,\n        \"samples\": [\n          1\n        ],\n        \"semantic_type\": \"\",\n        \"description\": \"\"\n      }\n    },\n    {\n      \"column\": \"work_type_Private\",\n      \"properties\": {\n        \"dtype\": \"number\",\n        \"std\": 0,\n        \"min\": 0,\n        \"max\": 1,\n        \"num_unique_values\": 2,\n        \"samples\": [\n          0\n        ],\n        \"semantic_type\": \"\",\n        \"description\": \"\"\n      }\n    },\n    {\n      \"column\": \"work_type_Self_employed\",\n      \"properties\": {\n        \"dtype\": \"number\",\n        \"std\": 0,\n        \"min\": 0,\n        \"max\": 1,\n        \"num_unique_values\": 2,\n        \"samples\": [\n          1\n        ],\n        \"semantic_type\": \"\",\n        \"description\": \"\"\n      }\n    },\n    {\n      \"column\": \"smoking_status_formerly_smoked\",\n      \"properties\": {\n        \"dtype\": \"number\",\n        \"std\": 0,\n        \"min\": 0,\n        \"max\": 1,\n        \"num_unique_values\": 2,\n        \"samples\": [\n          0\n        ],\n        \"semantic_type\": \"\",\n        \"description\": \"\"\n      }\n    },\n    {\n      \"column\": \"smoking_status_never_smoked\",\n      \"properties\": {\n        \"dtype\": \"number\",\n        \"std\": 0,\n        \"min\": 0,\n        \"max\": 1,\n        \"num_unique_values\": 2,\n        \"samples\": [\n          1\n        ],\n        \"semantic_type\": \"\",\n        \"description\": \"\"\n      }\n    },\n    {\n      \"column\": \"smoking_status_smokes\",\n      \"properties\": {\n        \"dtype\": \"number\",\n        \"std\": 0,\n        \"min\": 0,\n        \"max\": 1,\n        \"num_unique_values\": 2,\n        \"samples\": [\n          1\n        ],\n        \"semantic_type\": \"\",\n        \"description\": \"\"\n      }\n    }\n  ]\n}"
            }
          },
          "metadata": {},
          "execution_count": 6
        }
      ]
    },
    {
      "cell_type": "markdown",
      "source": [
        "<h3>Preparing data for training"
      ],
      "metadata": {
        "id": "mK3G2gZLcP_h"
      }
    },
    {
      "cell_type": "code",
      "source": [
        "X = df_model.drop('stroke', axis=1) # independent variable\n",
        "y = df_model['stroke'] # Dependent variable\n",
        "\n",
        "X_train, X_test, y_train, y_test = train_test_split(X, y, test_size=0.2, random_state=42)\n",
        "X_train"
      ],
      "metadata": {
        "colab": {
          "base_uri": "https://localhost:8080/",
          "height": 444
        },
        "id": "5MMWAYiPPOjr",
        "outputId": "2c1a6483-c0c6-42ed-d760-bdeaab9ad6a9"
      },
      "execution_count": 7,
      "outputs": [
        {
          "output_type": "execute_result",
          "data": {
            "text/plain": [
              "         id    age  hypertension  heart_disease  avg_glucose_level   bmi  \\\n",
              "802    4970  79.00             0              0             112.64  28.5   \n",
              "3927  56137  62.00             0              0              88.32  36.3   \n",
              "2337  54590  21.00             0              0              59.52  33.7   \n",
              "3910  36548  31.00             0              0              65.70  30.4   \n",
              "1886  61171  31.00             0              0              59.63  19.9   \n",
              "...     ...    ...           ...            ...                ...   ...   \n",
              "4426  13846  43.00             0              0              88.00  30.6   \n",
              "466    1307  61.00             1              0             170.05  60.2   \n",
              "3092  31481   1.16             0              0              97.28  17.8   \n",
              "3772  61827  80.00             0              0             196.08  31.0   \n",
              "860   28933  46.00             0              0             100.15  50.3   \n",
              "\n",
              "      Urban/Rural  work_type_Never_worked  work_type_Private  \\\n",
              "802             0                       0                  0   \n",
              "3927            0                       0                  1   \n",
              "2337            0                       0                  1   \n",
              "3910            0                       0                  0   \n",
              "1886            0                       0                  1   \n",
              "...           ...                     ...                ...   \n",
              "4426            0                       0                  0   \n",
              "466             0                       0                  1   \n",
              "3092            0                       0                  0   \n",
              "3772            0                       0                  0   \n",
              "860             0                       0                  1   \n",
              "\n",
              "      work_type_Self_employed  smoking_status_formerly_smoked  \\\n",
              "802                         1                               1   \n",
              "3927                        0                               0   \n",
              "2337                        0                               0   \n",
              "3910                        0                               1   \n",
              "1886                        0                               0   \n",
              "...                       ...                             ...   \n",
              "4426                        0                               0   \n",
              "466                         0                               0   \n",
              "3092                        0                               0   \n",
              "3772                        1                               1   \n",
              "860                         0                               0   \n",
              "\n",
              "      smoking_status_never_smoked  smoking_status_smokes  \n",
              "802                             0                      0  \n",
              "3927                            0                      0  \n",
              "2337                            1                      0  \n",
              "3910                            0                      0  \n",
              "1886                            1                      0  \n",
              "...                           ...                    ...  \n",
              "4426                            1                      0  \n",
              "466                             0                      1  \n",
              "3092                            0                      0  \n",
              "3772                            0                      0  \n",
              "860                             0                      1  \n",
              "\n",
              "[4088 rows x 13 columns]"
            ],
            "text/html": [
              "\n",
              "  <div id=\"df-ceb5a8a2-99f3-4b98-a212-a30ecaa46631\" class=\"colab-df-container\">\n",
              "    <div>\n",
              "<style scoped>\n",
              "    .dataframe tbody tr th:only-of-type {\n",
              "        vertical-align: middle;\n",
              "    }\n",
              "\n",
              "    .dataframe tbody tr th {\n",
              "        vertical-align: top;\n",
              "    }\n",
              "\n",
              "    .dataframe thead th {\n",
              "        text-align: right;\n",
              "    }\n",
              "</style>\n",
              "<table border=\"1\" class=\"dataframe\">\n",
              "  <thead>\n",
              "    <tr style=\"text-align: right;\">\n",
              "      <th></th>\n",
              "      <th>id</th>\n",
              "      <th>age</th>\n",
              "      <th>hypertension</th>\n",
              "      <th>heart_disease</th>\n",
              "      <th>avg_glucose_level</th>\n",
              "      <th>bmi</th>\n",
              "      <th>Urban/Rural</th>\n",
              "      <th>work_type_Never_worked</th>\n",
              "      <th>work_type_Private</th>\n",
              "      <th>work_type_Self_employed</th>\n",
              "      <th>smoking_status_formerly_smoked</th>\n",
              "      <th>smoking_status_never_smoked</th>\n",
              "      <th>smoking_status_smokes</th>\n",
              "    </tr>\n",
              "  </thead>\n",
              "  <tbody>\n",
              "    <tr>\n",
              "      <th>802</th>\n",
              "      <td>4970</td>\n",
              "      <td>79.00</td>\n",
              "      <td>0</td>\n",
              "      <td>0</td>\n",
              "      <td>112.64</td>\n",
              "      <td>28.5</td>\n",
              "      <td>0</td>\n",
              "      <td>0</td>\n",
              "      <td>0</td>\n",
              "      <td>1</td>\n",
              "      <td>1</td>\n",
              "      <td>0</td>\n",
              "      <td>0</td>\n",
              "    </tr>\n",
              "    <tr>\n",
              "      <th>3927</th>\n",
              "      <td>56137</td>\n",
              "      <td>62.00</td>\n",
              "      <td>0</td>\n",
              "      <td>0</td>\n",
              "      <td>88.32</td>\n",
              "      <td>36.3</td>\n",
              "      <td>0</td>\n",
              "      <td>0</td>\n",
              "      <td>1</td>\n",
              "      <td>0</td>\n",
              "      <td>0</td>\n",
              "      <td>0</td>\n",
              "      <td>0</td>\n",
              "    </tr>\n",
              "    <tr>\n",
              "      <th>2337</th>\n",
              "      <td>54590</td>\n",
              "      <td>21.00</td>\n",
              "      <td>0</td>\n",
              "      <td>0</td>\n",
              "      <td>59.52</td>\n",
              "      <td>33.7</td>\n",
              "      <td>0</td>\n",
              "      <td>0</td>\n",
              "      <td>1</td>\n",
              "      <td>0</td>\n",
              "      <td>0</td>\n",
              "      <td>1</td>\n",
              "      <td>0</td>\n",
              "    </tr>\n",
              "    <tr>\n",
              "      <th>3910</th>\n",
              "      <td>36548</td>\n",
              "      <td>31.00</td>\n",
              "      <td>0</td>\n",
              "      <td>0</td>\n",
              "      <td>65.70</td>\n",
              "      <td>30.4</td>\n",
              "      <td>0</td>\n",
              "      <td>0</td>\n",
              "      <td>0</td>\n",
              "      <td>0</td>\n",
              "      <td>1</td>\n",
              "      <td>0</td>\n",
              "      <td>0</td>\n",
              "    </tr>\n",
              "    <tr>\n",
              "      <th>1886</th>\n",
              "      <td>61171</td>\n",
              "      <td>31.00</td>\n",
              "      <td>0</td>\n",
              "      <td>0</td>\n",
              "      <td>59.63</td>\n",
              "      <td>19.9</td>\n",
              "      <td>0</td>\n",
              "      <td>0</td>\n",
              "      <td>1</td>\n",
              "      <td>0</td>\n",
              "      <td>0</td>\n",
              "      <td>1</td>\n",
              "      <td>0</td>\n",
              "    </tr>\n",
              "    <tr>\n",
              "      <th>...</th>\n",
              "      <td>...</td>\n",
              "      <td>...</td>\n",
              "      <td>...</td>\n",
              "      <td>...</td>\n",
              "      <td>...</td>\n",
              "      <td>...</td>\n",
              "      <td>...</td>\n",
              "      <td>...</td>\n",
              "      <td>...</td>\n",
              "      <td>...</td>\n",
              "      <td>...</td>\n",
              "      <td>...</td>\n",
              "      <td>...</td>\n",
              "    </tr>\n",
              "    <tr>\n",
              "      <th>4426</th>\n",
              "      <td>13846</td>\n",
              "      <td>43.00</td>\n",
              "      <td>0</td>\n",
              "      <td>0</td>\n",
              "      <td>88.00</td>\n",
              "      <td>30.6</td>\n",
              "      <td>0</td>\n",
              "      <td>0</td>\n",
              "      <td>0</td>\n",
              "      <td>0</td>\n",
              "      <td>0</td>\n",
              "      <td>1</td>\n",
              "      <td>0</td>\n",
              "    </tr>\n",
              "    <tr>\n",
              "      <th>466</th>\n",
              "      <td>1307</td>\n",
              "      <td>61.00</td>\n",
              "      <td>1</td>\n",
              "      <td>0</td>\n",
              "      <td>170.05</td>\n",
              "      <td>60.2</td>\n",
              "      <td>0</td>\n",
              "      <td>0</td>\n",
              "      <td>1</td>\n",
              "      <td>0</td>\n",
              "      <td>0</td>\n",
              "      <td>0</td>\n",
              "      <td>1</td>\n",
              "    </tr>\n",
              "    <tr>\n",
              "      <th>3092</th>\n",
              "      <td>31481</td>\n",
              "      <td>1.16</td>\n",
              "      <td>0</td>\n",
              "      <td>0</td>\n",
              "      <td>97.28</td>\n",
              "      <td>17.8</td>\n",
              "      <td>0</td>\n",
              "      <td>0</td>\n",
              "      <td>0</td>\n",
              "      <td>0</td>\n",
              "      <td>0</td>\n",
              "      <td>0</td>\n",
              "      <td>0</td>\n",
              "    </tr>\n",
              "    <tr>\n",
              "      <th>3772</th>\n",
              "      <td>61827</td>\n",
              "      <td>80.00</td>\n",
              "      <td>0</td>\n",
              "      <td>0</td>\n",
              "      <td>196.08</td>\n",
              "      <td>31.0</td>\n",
              "      <td>0</td>\n",
              "      <td>0</td>\n",
              "      <td>0</td>\n",
              "      <td>1</td>\n",
              "      <td>1</td>\n",
              "      <td>0</td>\n",
              "      <td>0</td>\n",
              "    </tr>\n",
              "    <tr>\n",
              "      <th>860</th>\n",
              "      <td>28933</td>\n",
              "      <td>46.00</td>\n",
              "      <td>0</td>\n",
              "      <td>0</td>\n",
              "      <td>100.15</td>\n",
              "      <td>50.3</td>\n",
              "      <td>0</td>\n",
              "      <td>0</td>\n",
              "      <td>1</td>\n",
              "      <td>0</td>\n",
              "      <td>0</td>\n",
              "      <td>0</td>\n",
              "      <td>1</td>\n",
              "    </tr>\n",
              "  </tbody>\n",
              "</table>\n",
              "<p>4088 rows × 13 columns</p>\n",
              "</div>\n",
              "    <div class=\"colab-df-buttons\">\n",
              "\n",
              "  <div class=\"colab-df-container\">\n",
              "    <button class=\"colab-df-convert\" onclick=\"convertToInteractive('df-ceb5a8a2-99f3-4b98-a212-a30ecaa46631')\"\n",
              "            title=\"Convert this dataframe to an interactive table.\"\n",
              "            style=\"display:none;\">\n",
              "\n",
              "  <svg xmlns=\"http://www.w3.org/2000/svg\" height=\"24px\" viewBox=\"0 -960 960 960\">\n",
              "    <path d=\"M120-120v-720h720v720H120Zm60-500h600v-160H180v160Zm220 220h160v-160H400v160Zm0 220h160v-160H400v160ZM180-400h160v-160H180v160Zm440 0h160v-160H620v160ZM180-180h160v-160H180v160Zm440 0h160v-160H620v160Z\"/>\n",
              "  </svg>\n",
              "    </button>\n",
              "\n",
              "  <style>\n",
              "    .colab-df-container {\n",
              "      display:flex;\n",
              "      gap: 12px;\n",
              "    }\n",
              "\n",
              "    .colab-df-convert {\n",
              "      background-color: #E8F0FE;\n",
              "      border: none;\n",
              "      border-radius: 50%;\n",
              "      cursor: pointer;\n",
              "      display: none;\n",
              "      fill: #1967D2;\n",
              "      height: 32px;\n",
              "      padding: 0 0 0 0;\n",
              "      width: 32px;\n",
              "    }\n",
              "\n",
              "    .colab-df-convert:hover {\n",
              "      background-color: #E2EBFA;\n",
              "      box-shadow: 0px 1px 2px rgba(60, 64, 67, 0.3), 0px 1px 3px 1px rgba(60, 64, 67, 0.15);\n",
              "      fill: #174EA6;\n",
              "    }\n",
              "\n",
              "    .colab-df-buttons div {\n",
              "      margin-bottom: 4px;\n",
              "    }\n",
              "\n",
              "    [theme=dark] .colab-df-convert {\n",
              "      background-color: #3B4455;\n",
              "      fill: #D2E3FC;\n",
              "    }\n",
              "\n",
              "    [theme=dark] .colab-df-convert:hover {\n",
              "      background-color: #434B5C;\n",
              "      box-shadow: 0px 1px 3px 1px rgba(0, 0, 0, 0.15);\n",
              "      filter: drop-shadow(0px 1px 2px rgba(0, 0, 0, 0.3));\n",
              "      fill: #FFFFFF;\n",
              "    }\n",
              "  </style>\n",
              "\n",
              "    <script>\n",
              "      const buttonEl =\n",
              "        document.querySelector('#df-ceb5a8a2-99f3-4b98-a212-a30ecaa46631 button.colab-df-convert');\n",
              "      buttonEl.style.display =\n",
              "        google.colab.kernel.accessAllowed ? 'block' : 'none';\n",
              "\n",
              "      async function convertToInteractive(key) {\n",
              "        const element = document.querySelector('#df-ceb5a8a2-99f3-4b98-a212-a30ecaa46631');\n",
              "        const dataTable =\n",
              "          await google.colab.kernel.invokeFunction('convertToInteractive',\n",
              "                                                    [key], {});\n",
              "        if (!dataTable) return;\n",
              "\n",
              "        const docLinkHtml = 'Like what you see? Visit the ' +\n",
              "          '<a target=\"_blank\" href=https://colab.research.google.com/notebooks/data_table.ipynb>data table notebook</a>'\n",
              "          + ' to learn more about interactive tables.';\n",
              "        element.innerHTML = '';\n",
              "        dataTable['output_type'] = 'display_data';\n",
              "        await google.colab.output.renderOutput(dataTable, element);\n",
              "        const docLink = document.createElement('div');\n",
              "        docLink.innerHTML = docLinkHtml;\n",
              "        element.appendChild(docLink);\n",
              "      }\n",
              "    </script>\n",
              "  </div>\n",
              "\n",
              "\n",
              "<div id=\"df-0d9f72d1-ec56-4c5e-8ac8-dd860212b71d\">\n",
              "  <button class=\"colab-df-quickchart\" onclick=\"quickchart('df-0d9f72d1-ec56-4c5e-8ac8-dd860212b71d')\"\n",
              "            title=\"Suggest charts\"\n",
              "            style=\"display:none;\">\n",
              "\n",
              "<svg xmlns=\"http://www.w3.org/2000/svg\" height=\"24px\"viewBox=\"0 0 24 24\"\n",
              "     width=\"24px\">\n",
              "    <g>\n",
              "        <path d=\"M19 3H5c-1.1 0-2 .9-2 2v14c0 1.1.9 2 2 2h14c1.1 0 2-.9 2-2V5c0-1.1-.9-2-2-2zM9 17H7v-7h2v7zm4 0h-2V7h2v10zm4 0h-2v-4h2v4z\"/>\n",
              "    </g>\n",
              "</svg>\n",
              "  </button>\n",
              "\n",
              "<style>\n",
              "  .colab-df-quickchart {\n",
              "      --bg-color: #E8F0FE;\n",
              "      --fill-color: #1967D2;\n",
              "      --hover-bg-color: #E2EBFA;\n",
              "      --hover-fill-color: #174EA6;\n",
              "      --disabled-fill-color: #AAA;\n",
              "      --disabled-bg-color: #DDD;\n",
              "  }\n",
              "\n",
              "  [theme=dark] .colab-df-quickchart {\n",
              "      --bg-color: #3B4455;\n",
              "      --fill-color: #D2E3FC;\n",
              "      --hover-bg-color: #434B5C;\n",
              "      --hover-fill-color: #FFFFFF;\n",
              "      --disabled-bg-color: #3B4455;\n",
              "      --disabled-fill-color: #666;\n",
              "  }\n",
              "\n",
              "  .colab-df-quickchart {\n",
              "    background-color: var(--bg-color);\n",
              "    border: none;\n",
              "    border-radius: 50%;\n",
              "    cursor: pointer;\n",
              "    display: none;\n",
              "    fill: var(--fill-color);\n",
              "    height: 32px;\n",
              "    padding: 0;\n",
              "    width: 32px;\n",
              "  }\n",
              "\n",
              "  .colab-df-quickchart:hover {\n",
              "    background-color: var(--hover-bg-color);\n",
              "    box-shadow: 0 1px 2px rgba(60, 64, 67, 0.3), 0 1px 3px 1px rgba(60, 64, 67, 0.15);\n",
              "    fill: var(--button-hover-fill-color);\n",
              "  }\n",
              "\n",
              "  .colab-df-quickchart-complete:disabled,\n",
              "  .colab-df-quickchart-complete:disabled:hover {\n",
              "    background-color: var(--disabled-bg-color);\n",
              "    fill: var(--disabled-fill-color);\n",
              "    box-shadow: none;\n",
              "  }\n",
              "\n",
              "  .colab-df-spinner {\n",
              "    border: 2px solid var(--fill-color);\n",
              "    border-color: transparent;\n",
              "    border-bottom-color: var(--fill-color);\n",
              "    animation:\n",
              "      spin 1s steps(1) infinite;\n",
              "  }\n",
              "\n",
              "  @keyframes spin {\n",
              "    0% {\n",
              "      border-color: transparent;\n",
              "      border-bottom-color: var(--fill-color);\n",
              "      border-left-color: var(--fill-color);\n",
              "    }\n",
              "    20% {\n",
              "      border-color: transparent;\n",
              "      border-left-color: var(--fill-color);\n",
              "      border-top-color: var(--fill-color);\n",
              "    }\n",
              "    30% {\n",
              "      border-color: transparent;\n",
              "      border-left-color: var(--fill-color);\n",
              "      border-top-color: var(--fill-color);\n",
              "      border-right-color: var(--fill-color);\n",
              "    }\n",
              "    40% {\n",
              "      border-color: transparent;\n",
              "      border-right-color: var(--fill-color);\n",
              "      border-top-color: var(--fill-color);\n",
              "    }\n",
              "    60% {\n",
              "      border-color: transparent;\n",
              "      border-right-color: var(--fill-color);\n",
              "    }\n",
              "    80% {\n",
              "      border-color: transparent;\n",
              "      border-right-color: var(--fill-color);\n",
              "      border-bottom-color: var(--fill-color);\n",
              "    }\n",
              "    90% {\n",
              "      border-color: transparent;\n",
              "      border-bottom-color: var(--fill-color);\n",
              "    }\n",
              "  }\n",
              "</style>\n",
              "\n",
              "  <script>\n",
              "    async function quickchart(key) {\n",
              "      const quickchartButtonEl =\n",
              "        document.querySelector('#' + key + ' button');\n",
              "      quickchartButtonEl.disabled = true;  // To prevent multiple clicks.\n",
              "      quickchartButtonEl.classList.add('colab-df-spinner');\n",
              "      try {\n",
              "        const charts = await google.colab.kernel.invokeFunction(\n",
              "            'suggestCharts', [key], {});\n",
              "      } catch (error) {\n",
              "        console.error('Error during call to suggestCharts:', error);\n",
              "      }\n",
              "      quickchartButtonEl.classList.remove('colab-df-spinner');\n",
              "      quickchartButtonEl.classList.add('colab-df-quickchart-complete');\n",
              "    }\n",
              "    (() => {\n",
              "      let quickchartButtonEl =\n",
              "        document.querySelector('#df-0d9f72d1-ec56-4c5e-8ac8-dd860212b71d button');\n",
              "      quickchartButtonEl.style.display =\n",
              "        google.colab.kernel.accessAllowed ? 'block' : 'none';\n",
              "    })();\n",
              "  </script>\n",
              "</div>\n",
              "\n",
              "  <div id=\"id_4383119f-bcf9-4c36-b24e-c95e022dc02e\">\n",
              "    <style>\n",
              "      .colab-df-generate {\n",
              "        background-color: #E8F0FE;\n",
              "        border: none;\n",
              "        border-radius: 50%;\n",
              "        cursor: pointer;\n",
              "        display: none;\n",
              "        fill: #1967D2;\n",
              "        height: 32px;\n",
              "        padding: 0 0 0 0;\n",
              "        width: 32px;\n",
              "      }\n",
              "\n",
              "      .colab-df-generate:hover {\n",
              "        background-color: #E2EBFA;\n",
              "        box-shadow: 0px 1px 2px rgba(60, 64, 67, 0.3), 0px 1px 3px 1px rgba(60, 64, 67, 0.15);\n",
              "        fill: #174EA6;\n",
              "      }\n",
              "\n",
              "      [theme=dark] .colab-df-generate {\n",
              "        background-color: #3B4455;\n",
              "        fill: #D2E3FC;\n",
              "      }\n",
              "\n",
              "      [theme=dark] .colab-df-generate:hover {\n",
              "        background-color: #434B5C;\n",
              "        box-shadow: 0px 1px 3px 1px rgba(0, 0, 0, 0.15);\n",
              "        filter: drop-shadow(0px 1px 2px rgba(0, 0, 0, 0.3));\n",
              "        fill: #FFFFFF;\n",
              "      }\n",
              "    </style>\n",
              "    <button class=\"colab-df-generate\" onclick=\"generateWithVariable('X_train')\"\n",
              "            title=\"Generate code using this dataframe.\"\n",
              "            style=\"display:none;\">\n",
              "\n",
              "  <svg xmlns=\"http://www.w3.org/2000/svg\" height=\"24px\"viewBox=\"0 0 24 24\"\n",
              "       width=\"24px\">\n",
              "    <path d=\"M7,19H8.4L18.45,9,17,7.55,7,17.6ZM5,21V16.75L18.45,3.32a2,2,0,0,1,2.83,0l1.4,1.43a1.91,1.91,0,0,1,.58,1.4,1.91,1.91,0,0,1-.58,1.4L9.25,21ZM18.45,9,17,7.55Zm-12,3A5.31,5.31,0,0,0,4.9,8.1,5.31,5.31,0,0,0,1,6.5,5.31,5.31,0,0,0,4.9,4.9,5.31,5.31,0,0,0,6.5,1,5.31,5.31,0,0,0,8.1,4.9,5.31,5.31,0,0,0,12,6.5,5.46,5.46,0,0,0,6.5,12Z\"/>\n",
              "  </svg>\n",
              "    </button>\n",
              "    <script>\n",
              "      (() => {\n",
              "      const buttonEl =\n",
              "        document.querySelector('#id_4383119f-bcf9-4c36-b24e-c95e022dc02e button.colab-df-generate');\n",
              "      buttonEl.style.display =\n",
              "        google.colab.kernel.accessAllowed ? 'block' : 'none';\n",
              "\n",
              "      buttonEl.onclick = () => {\n",
              "        google.colab.notebook.generateWithVariable('X_train');\n",
              "      }\n",
              "      })();\n",
              "    </script>\n",
              "  </div>\n",
              "\n",
              "    </div>\n",
              "  </div>\n"
            ],
            "application/vnd.google.colaboratory.intrinsic+json": {
              "type": "dataframe",
              "variable_name": "X_train",
              "summary": "{\n  \"name\": \"X_train\",\n  \"rows\": 4088,\n  \"fields\": [\n    {\n      \"column\": \"id\",\n      \"properties\": {\n        \"dtype\": \"number\",\n        \"std\": 21085,\n        \"min\": 77,\n        \"max\": 72940,\n        \"num_unique_values\": 4088,\n        \"samples\": [\n          58591,\n          4712,\n          57080\n        ],\n        \"semantic_type\": \"\",\n        \"description\": \"\"\n      }\n    },\n    {\n      \"column\": \"age\",\n      \"properties\": {\n        \"dtype\": \"number\",\n        \"std\": 22.535815133867963,\n        \"min\": 0.16,\n        \"max\": 82.0,\n        \"num_unique_values\": 103,\n        \"samples\": [\n          45.0,\n          20.0,\n          16.0\n        ],\n        \"semantic_type\": \"\",\n        \"description\": \"\"\n      }\n    },\n    {\n      \"column\": \"hypertension\",\n      \"properties\": {\n        \"dtype\": \"number\",\n        \"std\": 0,\n        \"min\": 0,\n        \"max\": 1,\n        \"num_unique_values\": 2,\n        \"samples\": [\n          1,\n          0\n        ],\n        \"semantic_type\": \"\",\n        \"description\": \"\"\n      }\n    },\n    {\n      \"column\": \"heart_disease\",\n      \"properties\": {\n        \"dtype\": \"number\",\n        \"std\": 0,\n        \"min\": 0,\n        \"max\": 1,\n        \"num_unique_values\": 2,\n        \"samples\": [\n          1,\n          0\n        ],\n        \"semantic_type\": \"\",\n        \"description\": \"\"\n      }\n    },\n    {\n      \"column\": \"avg_glucose_level\",\n      \"properties\": {\n        \"dtype\": \"number\",\n        \"std\": 45.6298019342909,\n        \"min\": 55.12,\n        \"max\": 271.74,\n        \"num_unique_values\": 3320,\n        \"samples\": [\n          70.37,\n          87.98\n        ],\n        \"semantic_type\": \"\",\n        \"description\": \"\"\n      }\n    },\n    {\n      \"column\": \"bmi\",\n      \"properties\": {\n        \"dtype\": \"number\",\n        \"std\": 7.760160770532195,\n        \"min\": 10.3,\n        \"max\": 97.6,\n        \"num_unique_values\": 405,\n        \"samples\": [\n          42.5,\n          20.8\n        ],\n        \"semantic_type\": \"\",\n        \"description\": \"\"\n      }\n    },\n    {\n      \"column\": \"Urban/Rural\",\n      \"properties\": {\n        \"dtype\": \"number\",\n        \"std\": 0,\n        \"min\": 0,\n        \"max\": 0,\n        \"num_unique_values\": 1,\n        \"samples\": [\n          0\n        ],\n        \"semantic_type\": \"\",\n        \"description\": \"\"\n      }\n    },\n    {\n      \"column\": \"work_type_Never_worked\",\n      \"properties\": {\n        \"dtype\": \"number\",\n        \"std\": 0,\n        \"min\": 0,\n        \"max\": 1,\n        \"num_unique_values\": 2,\n        \"samples\": [\n          1\n        ],\n        \"semantic_type\": \"\",\n        \"description\": \"\"\n      }\n    },\n    {\n      \"column\": \"work_type_Private\",\n      \"properties\": {\n        \"dtype\": \"number\",\n        \"std\": 0,\n        \"min\": 0,\n        \"max\": 1,\n        \"num_unique_values\": 2,\n        \"samples\": [\n          1\n        ],\n        \"semantic_type\": \"\",\n        \"description\": \"\"\n      }\n    },\n    {\n      \"column\": \"work_type_Self_employed\",\n      \"properties\": {\n        \"dtype\": \"number\",\n        \"std\": 0,\n        \"min\": 0,\n        \"max\": 1,\n        \"num_unique_values\": 2,\n        \"samples\": [\n          0\n        ],\n        \"semantic_type\": \"\",\n        \"description\": \"\"\n      }\n    },\n    {\n      \"column\": \"smoking_status_formerly_smoked\",\n      \"properties\": {\n        \"dtype\": \"number\",\n        \"std\": 0,\n        \"min\": 0,\n        \"max\": 1,\n        \"num_unique_values\": 2,\n        \"samples\": [\n          0\n        ],\n        \"semantic_type\": \"\",\n        \"description\": \"\"\n      }\n    },\n    {\n      \"column\": \"smoking_status_never_smoked\",\n      \"properties\": {\n        \"dtype\": \"number\",\n        \"std\": 0,\n        \"min\": 0,\n        \"max\": 1,\n        \"num_unique_values\": 2,\n        \"samples\": [\n          1\n        ],\n        \"semantic_type\": \"\",\n        \"description\": \"\"\n      }\n    },\n    {\n      \"column\": \"smoking_status_smokes\",\n      \"properties\": {\n        \"dtype\": \"number\",\n        \"std\": 0,\n        \"min\": 0,\n        \"max\": 1,\n        \"num_unique_values\": 2,\n        \"samples\": [\n          1\n        ],\n        \"semantic_type\": \"\",\n        \"description\": \"\"\n      }\n    }\n  ]\n}"
            }
          },
          "metadata": {},
          "execution_count": 7
        }
      ]
    },
    {
      "cell_type": "markdown",
      "source": [
        "<h3>Observation</h3>\n",
        "\n",
        "\n",
        "*   The data is split into features (X) and the target variable (y). X contains the columns that will be used to predict whether a person had a stroke (y).\n",
        "*   Finally, we split the data into training and test sets, with 80% for training and 20% for testing. This split allows us to train the model and then evaluate it on unseen data.\n",
        "\n"
      ],
      "metadata": {
        "id": "eWQQhJx3ck8-"
      }
    },
    {
      "cell_type": "markdown",
      "source": [
        "# Basic Machine Learning Models\n",
        "\n",
        "- Linear Regression\n",
        "- Lasso Regression\n",
        "- Ridge Regression\n",
        "- Logistic Regression\n",
        "\n",
        "\n",
        "# Root Mean Square error values (RMSE)\n",
        "![download (7).png](data:image/png;base64,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)"
      ],
      "metadata": {
        "id": "Qg5cLlm7PcRz"
      }
    },
    {
      "cell_type": "markdown",
      "source": [
        "<h3>Training Linear Regression Model"
      ],
      "metadata": {
        "id": "ACRVexvBdrcH"
      }
    },
    {
      "cell_type": "code",
      "source": [
        "linear_reg = LinearRegression()\n",
        "linear_reg.fit(X_train, y_train)\n",
        "linear_reg_predictions = linear_reg.predict(X_test)\n",
        "linear_reg_rmse = np.sqrt(mean_squared_error(y_test, linear_reg_predictions))\n",
        "linear_reg_rmse*100"
      ],
      "metadata": {
        "colab": {
          "base_uri": "https://localhost:8080/"
        },
        "id": "yGzsiC1VPcyM",
        "outputId": "17fd4e4d-cd50-4f17-c3b8-8403d65105cb"
      },
      "execution_count": 8,
      "outputs": [
        {
          "output_type": "execute_result",
          "data": {
            "text/plain": [
              "22.75928879858726"
            ]
          },
          "metadata": {},
          "execution_count": 8
        }
      ]
    },
    {
      "cell_type": "markdown",
      "source": [
        "<h3>Observation\n",
        "\n",
        "\n",
        "*   We train a linear regression model on the training data (X_train and y_train).\n",
        "*   After training, the model predicts values for the test set.\n",
        "\n",
        "*   We calculate the root mean square error (RMSE) of these predictions, which tells us how much error there is in our model’s predictions. Lower RMSE values indicate better performance.\n",
        "\n",
        "\n",
        "\n",
        "\n",
        "\n"
      ],
      "metadata": {
        "id": "CJ5XOPYHdwml"
      }
    },
    {
      "cell_type": "markdown",
      "source": [
        "<h3>Training Lasso Regression Model"
      ],
      "metadata": {
        "id": "cHDTBM7LeDrs"
      }
    },
    {
      "cell_type": "code",
      "source": [
        "lasso_reg = Lasso()\n",
        "lasso_reg.fit(X_train, y_train)\n",
        "lasso_reg_predictions = lasso_reg.predict(X_test)\n",
        "lasso_reg_rmse = np.sqrt(mean_squared_error(y_test, lasso_reg_predictions))\n",
        "lasso_reg_rmse*100"
      ],
      "metadata": {
        "colab": {
          "base_uri": "https://localhost:8080/"
        },
        "id": "DIDedaolPk3e",
        "outputId": "aa176758-3fb8-49eb-a767-56920ddb7c1a"
      },
      "execution_count": 9,
      "outputs": [
        {
          "output_type": "execute_result",
          "data": {
            "text/plain": [
              "23.758795130268975"
            ]
          },
          "metadata": {},
          "execution_count": 9
        }
      ]
    },
    {
      "cell_type": "markdown",
      "source": [
        "<h3>Observation\n",
        "\n",
        "\n",
        "*   A lasso regression model is trained and evaluated on the same data as above.\n",
        "\n",
        "*   Lasso regression is a variation of linear regression that adds a penalty for large coefficients, which can help prevent overfitting.\n",
        "*   The RMSE is calculated again, giving insight into how well the lasso model predicts.\n",
        "\n",
        "\n",
        "\n"
      ],
      "metadata": {
        "id": "vMtsw2jgeJQN"
      }
    },
    {
      "cell_type": "markdown",
      "source": [
        "<h3>Training Ridge Regression Model"
      ],
      "metadata": {
        "id": "P8EocPIzeTau"
      }
    },
    {
      "cell_type": "code",
      "source": [
        "Rigid_reg = Ridge()\n",
        "Rigid_reg.fit(X_train, y_train)\n",
        "Rigid_reg_predictions = Rigid_reg.predict(X_test)\n",
        "Rigid_reg_rmse = np.sqrt(mean_squared_error(y_test, Rigid_reg_predictions))\n",
        "Rigid_reg_rmse*100"
      ],
      "metadata": {
        "colab": {
          "base_uri": "https://localhost:8080/"
        },
        "id": "1HVtnyTqPmzD",
        "outputId": "4f96c85c-b018-4887-fe8a-eb0f99e12179"
      },
      "execution_count": 10,
      "outputs": [
        {
          "output_type": "execute_result",
          "data": {
            "text/plain": [
              "22.759457732980522"
            ]
          },
          "metadata": {},
          "execution_count": 10
        }
      ]
    },
    {
      "cell_type": "markdown",
      "source": [
        "<h3>Observation\n",
        "\n",
        "*   This cell trains a ridge regression model. Ridge regression is another variant of linear regression that also penalizes large coefficients but in a different way from lasso.\n",
        "\n",
        "*   The model’s RMSE is calculated, which helps us compare its performance against linear and lasso regression.\n",
        "\n",
        "\n",
        "\n"
      ],
      "metadata": {
        "id": "-xmQUI_FeXAW"
      }
    },
    {
      "cell_type": "markdown",
      "source": [
        "<h3>Training Logistic Regression Model"
      ],
      "metadata": {
        "id": "ARF39qw0ehmk"
      }
    },
    {
      "cell_type": "code",
      "source": [
        "clf=LogisticRegression()\n",
        "clf.fit(X_train, y_train)\n",
        "Logistic_pred = clf.predict(X_test)\n",
        "Log_reg_rmse = np.sqrt(mean_squared_error(y_test, Logistic_pred))\n",
        "Log_reg_rmse*100"
      ],
      "metadata": {
        "colab": {
          "base_uri": "https://localhost:8080/"
        },
        "id": "0D-wjle-PoaJ",
        "outputId": "e4fd9fdd-f1cf-46a2-e7a3-434b75f1e34e"
      },
      "execution_count": 11,
      "outputs": [
        {
          "output_type": "execute_result",
          "data": {
            "text/plain": [
              "24.630339428279314"
            ]
          },
          "metadata": {},
          "execution_count": 11
        }
      ]
    },
    {
      "cell_type": "markdown",
      "source": [
        "<h3>Observation\n",
        "\n",
        "\n",
        "*   A logistic regression model is trained on the data. Unlike the previous regression models, logistic regression is generally used for classification (predicting categories rather than continuous values).\n",
        "\n",
        "*   Here, we’re calculating RMSE for consistency, but typically, accuracy is a better measure for classification models.\n",
        "\n",
        "\n",
        "\n",
        "\n",
        "\n"
      ],
      "metadata": {
        "id": "ghfRD02Cep3-"
      }
    },
    {
      "cell_type": "markdown",
      "source": [
        "# Accuracy score"
      ],
      "metadata": {
        "id": "vg8P1z6XPtQd"
      }
    },
    {
      "cell_type": "code",
      "source": [
        "clf.score(X_test, y_test)*100"
      ],
      "metadata": {
        "colab": {
          "base_uri": "https://localhost:8080/"
        },
        "id": "Kip73PlnPwEr",
        "outputId": "4126e2d3-79ca-415d-83c8-a796da9b30d0"
      },
      "execution_count": 12,
      "outputs": [
        {
          "output_type": "execute_result",
          "data": {
            "text/plain": [
              "93.9334637964775"
            ]
          },
          "metadata": {},
          "execution_count": 12
        }
      ]
    },
    {
      "cell_type": "markdown",
      "source": [
        "<h3>Observation\n",
        "\n",
        "\n",
        "*   This calculates the accuracy of the classification model (e.g., Logistic Regression) on the test data\n",
        "\n",
        "\n"
      ],
      "metadata": {
        "id": "AnRpqywAfgev"
      }
    },
    {
      "cell_type": "code",
      "source": [
        "Rigid_reg.score(X_test, y_test)*100"
      ],
      "metadata": {
        "colab": {
          "base_uri": "https://localhost:8080/"
        },
        "id": "Oq8b885tPxw-",
        "outputId": "b6adfc2f-8f1b-4200-a212-47de329bda0a"
      },
      "execution_count": 20,
      "outputs": [
        {
          "output_type": "execute_result",
          "data": {
            "text/plain": [
              "9.100249800405514"
            ]
          },
          "metadata": {},
          "execution_count": 20
        }
      ]
    },
    {
      "cell_type": "markdown",
      "source": [
        "<h3>Observation\n",
        "\n",
        "\n",
        "*   This calculates the performance of the Ridge Regression model.\n",
        "\n"
      ],
      "metadata": {
        "id": "SnnuZ2ZZfneo"
      }
    },
    {
      "cell_type": "code",
      "source": [
        "lasso_reg.score(X_test, y_test)*100"
      ],
      "metadata": {
        "colab": {
          "base_uri": "https://localhost:8080/"
        },
        "id": "fR288Hp8Pzv9",
        "outputId": "3ab1aa0c-2706-412c-acec-ea71f15b6e61"
      },
      "execution_count": 21,
      "outputs": [
        {
          "output_type": "execute_result",
          "data": {
            "text/plain": [
              "0.9424244362517764"
            ]
          },
          "metadata": {},
          "execution_count": 21
        }
      ]
    },
    {
      "cell_type": "markdown",
      "source": [
        "<h3>Observation\n",
        "\n",
        "*   Similar to Ridge Regression, this computes the performance of the Lasso Regression model.\n",
        "\n"
      ],
      "metadata": {
        "id": "LM5Gvko8ftMj"
      }
    },
    {
      "cell_type": "code",
      "source": [
        "linear_reg.score(X_test, y_test)*100"
      ],
      "metadata": {
        "colab": {
          "base_uri": "https://localhost:8080/"
        },
        "id": "SJi3vDe1P1R4",
        "outputId": "bf703907-f06d-4f34-bead-5c16fe01a084"
      },
      "execution_count": 25,
      "outputs": [
        {
          "output_type": "execute_result",
          "data": {
            "text/plain": [
              "9.101599220706902"
            ]
          },
          "metadata": {},
          "execution_count": 25
        }
      ]
    },
    {
      "cell_type": "markdown",
      "source": [
        "<h3>Observation\n",
        "\n",
        "*   This calculates the performance of the Linear Regression model.\n",
        "\n"
      ],
      "metadata": {
        "id": "vdbpuBqUf1U2"
      }
    },
    {
      "cell_type": "markdown",
      "source": [
        "#Plotting Graphs to show Accuracy and RMSE"
      ],
      "metadata": {
        "id": "P4hjqkDmgDKE"
      }
    },
    {
      "cell_type": "code",
      "source": [
        "import matplotlib.pyplot as plt\n",
        "import seaborn as sns\n",
        "\n",
        "# Defining model names and corresponding RMSE and accuracy scores\n",
        "model_names = ['Linear Regression', 'Lasso Regression', 'Ridge Regression', 'Logistic Regression']\n",
        "rmse_scores = [linear_reg_rmse, lasso_reg_rmse, Rigid_reg_rmse, Log_reg_rmse]\n",
        "\n",
        "# Converting accuracy to percentage scale for consistency (multiply R² by 100 for regression)\n",
        "accuracy_scores = [\n",
        "    linear_reg.score(X_test, y_test) * 100,\n",
        "    lasso_reg.score(X_test, y_test) * 100,\n",
        "    Rigid_reg.score(X_test, y_test) * 100,\n",
        "    clf.score(X_test, y_test) * 100\n",
        "]\n",
        "\n",
        "# Plotting\n",
        "fig, (ax1, ax2) = plt.subplots(1, 2, figsize=(14, 6))\n",
        "\n",
        "# Accuracy plot\n",
        "sns.barplot(x=model_names, y=accuracy_scores, ax=ax1, palette='Blues')\n",
        "ax1.set_title('Model Accuracy')\n",
        "ax1.set_xlabel('Model')\n",
        "ax1.set_ylabel('Accuracy (%)')\n",
        "ax1.set_ylim(0, 100)  # Setting y-axis limit from 0 to 100 for consistency\n",
        "\n",
        "# RMSE plot\n",
        "sns.barplot(x=model_names, y=rmse_scores, ax=ax2, palette='Reds')\n",
        "ax2.set_title('Model RMSE')\n",
        "ax2.set_xlabel('Model')\n",
        "ax2.set_ylabel('RMSE')\n",
        "\n",
        "# Rotating x labels for better readability\n",
        "for ax in [ax1, ax2]:\n",
        "    ax.set_xticklabels(ax.get_xticklabels(), rotation=45)\n",
        "\n",
        "plt.tight_layout()\n",
        "plt.show()\n",
        "\n"
      ],
      "metadata": {
        "colab": {
          "base_uri": "https://localhost:8080/",
          "height": 448
        },
        "id": "QoXwpLneP9cS",
        "outputId": "e375d117-6f2f-4eef-d669-e733587f9ba5"
      },
      "execution_count": 26,
      "outputs": [
        {
          "output_type": "display_data",
          "data": {
            "text/plain": [
              "<Figure size 1400x600 with 2 Axes>"
            ],
            "image/png": "[encoded data removed]"
          },
          "metadata": {}
        }
      ]
    },
    {
      "cell_type": "markdown",
      "source": [
        "<h3>Observation</h3>\n",
        "\n",
        "<h3>Model Accuracy(Left Chart)</h3>\n",
        "\n",
        "\n",
        "*   Logistic Regression achieves the highest accuracy, close to 94%, meaning it consistently makes correct predictions for this dataset.\n",
        "*   Linear Regression, Lasso Regression, and Ridge Regression have very low accuracy scores, indicating they struggle to classify outcomes correctly.\n",
        "\n",
        "\n",
        "*   The significant difference highlights that Logistic Regression is much better suited for classification tasks in this healthcare dataset.\n",
        "\n",
        "<h3>Model RMSE(Right Chart)</h3>\n",
        "\n",
        "\n",
        "*   The RMSE values for all models are close, around 0.25, showing similar levels of average prediction error.\n",
        "\n",
        "*   A lower RMSE typically indicates better predictions.\n",
        "\n",
        "\n",
        "\n",
        "*   Here Linear Regression has slightly lower RMSE score as  it is specifically designed to minimize errors in continuous predictions by finding the line of best fit.\n",
        "\n",
        "\n",
        "\n",
        "\n"
      ],
      "metadata": {
        "id": "lJgcGqIOgdCX"
      }
    },
    {
      "cell_type": "markdown",
      "source": [
        "\n",
        "\n",
        "---\n",
        "\n"
      ],
      "metadata": {
        "id": "7l57d4fbjse0"
      }
    },
    {
      "cell_type": "markdown",
      "source": [
        "#Why certain models have good accuracy and other's don't?\n",
        "\n",
        "<h3>Different Models for Different Tasks:</h3>\n",
        "\n",
        "\n",
        "*   Logistic Regression is designed for classification problems, where you predict categories (like \"yes\" or \"no\"), such as whether someone had a stroke or not.\n",
        "*   Linear Regression, Ridge, and Lasso are designed for predicting continuous values (like age or temperature) and are better suited for regression tasks.\n",
        "\n",
        "<h3>Why Logistic Regression is Better for Classification:</h3>\n",
        "\n",
        "\n",
        "*   Logistic Regression works well on binary classification tasks (two outcomes), so it gives high accuracy for problems like predicting stroke vs. no stroke.\n",
        "\n",
        "<h3>Limitations of Regression Models:</h3>\n",
        "\n",
        "*   Models like Linear, Ridge, and Lasso try to predict numbers and fit a line to minimize errors, but they struggle with classification tasks because they aren’t designed for categories.\n",
        "\n",
        "<h3>RMSE and Accuracy:</h3>\n",
        "\n",
        "*   Linear Regression may have a slightly lower RMSE, but that doesn’t mean it’s better for classification. RMSE measures errors for continuous data, not for categorizing outcomes.\n",
        "*  For classification tasks, accuracy is a more important measure than RMSE. Even with lower RMSE, Linear Regression isn’t the best choice for predicting categories.\n",
        "\n",
        "\n"
      ],
      "metadata": {
        "id": "rPbWkJRGiVJU"
      }
    },
    {
      "cell_type": "code",
      "source": [],
      "metadata": {
        "id": "GhTOwiUpjxHi"
      },
      "execution_count": null,
      "outputs": []
    }
  ]
}